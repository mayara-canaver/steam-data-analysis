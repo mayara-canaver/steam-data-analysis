{
 "cells": [
  {
   "cell_type": "markdown",
   "metadata": {},
   "source": [
    "## Analise e predição de jogos na steam\n",
    "\n",
    "projeto visa realizar uma analise preditiva em um dataset publico contendo mais de 80000 jogos na steam com diversas informaçoes, assim a predicao sera baseada em jogos mais proximos relacionados\n",
    "ex: selecionei gta 5, a predicao pode me retornar um top 5 jogos mais proximos parecidos com gta 5, como por exemplo o gta san andreas"
   ]
  },
  {
   "cell_type": "code",
   "execution_count": 351,
   "metadata": {},
   "outputs": [],
   "source": [
    "import pandas as pd\n",
    "import matplotlib.pyplot as plt \n",
    "\n",
    "\n",
    "pd.set_option('display.max_columns', None)\n",
    "pd.set_option('display.max_rows', 100)"
   ]
  },
  {
   "cell_type": "code",
   "execution_count": null,
   "metadata": {},
   "outputs": [],
   "source": [
    "df = pd.read_parquet(\"hf://datasets/FronkonGames/steam-games-dataset/data/train-00000-of-00001-e2ed184370a06932.parquet\")\n",
    "df = df[['Name', 'Categories', 'Genres', 'Tags']]"
   ]
  },
  {
   "cell_type": "code",
   "execution_count": 341,
   "metadata": {},
   "outputs": [
    {
     "data": {
      "text/plain": [
       "'Tipagem das colunas'"
      ]
     },
     "metadata": {},
     "output_type": "display_data"
    },
    {
     "data": {
      "text/plain": [
       "Name          object\n",
       "Categories    object\n",
       "Genres        object\n",
       "Tags          object\n",
       "dtype: object"
      ]
     },
     "metadata": {},
     "output_type": "display_data"
    },
    {
     "data": {
      "text/plain": [
       "'Quantidade Nan presentes'"
      ]
     },
     "metadata": {},
     "output_type": "display_data"
    },
    {
     "data": {
      "text/plain": [
       "Name          0\n",
       "Categories    0\n",
       "Genres        0\n",
       "Tags          0\n",
       "dtype: int64"
      ]
     },
     "metadata": {},
     "output_type": "display_data"
    },
    {
     "data": {
      "text/plain": [
       "'Linhas duplicadas'"
      ]
     },
     "metadata": {},
     "output_type": "display_data"
    },
    {
     "data": {
      "text/plain": [
       "0"
      ]
     },
     "metadata": {},
     "output_type": "display_data"
    }
   ],
   "source": [
    "display(\"Tipagem das colunas\", df.dtypes)\n",
    "display(\"Quantidade Nan presentes\", df.isna().sum())\n",
    "display(\"Linhas duplicadas\", sum(df.duplicated()))"
   ]
  },
  {
   "cell_type": "code",
   "execution_count": null,
   "metadata": {},
   "outputs": [],
   "source": [
    "df.dropna(inplace=True)\n",
    "df.drop_duplicates(inplace=True)\n",
    "df.reset_index(drop=True, inplace=True)"
   ]
  },
  {
   "cell_type": "code",
   "execution_count": 342,
   "metadata": {},
   "outputs": [],
   "source": [
    "df[df.columns] = df.apply(lambda x: x.str.strip().str.lower())"
   ]
  },
  {
   "cell_type": "markdown",
   "metadata": {},
   "source": [
    "### Analise descritiva\n",
    "\n",
    "entendimento dos dados, distribuições, calculo dos dados"
   ]
  },
  {
   "cell_type": "code",
   "execution_count": 329,
   "metadata": {},
   "outputs": [
    {
     "data": {
      "text/plain": [
       "Genres\n",
       "Indie                    45280\n",
       "Action                   27242\n",
       "Casual                   25142\n",
       "Adventure                24888\n",
       "Strategy                 12524\n",
       "Simulation               12495\n",
       "RPG                      11176\n",
       "Early Access             7641 \n",
       "Free to Play             3495 \n",
       "Sports                   3010 \n",
       "Racing                   2453 \n",
       "Massively Multiplayer    1589 \n",
       "Violent                  511  \n",
       "Gore                     303  \n",
       "Utilities                249  \n",
       "Design & Illustration    146  \n",
       "Animation & Modeling     125  \n",
       "Nudity                   116  \n",
       "Name: count, dtype: int64"
      ]
     },
     "metadata": {},
     "output_type": "display_data"
    },
    {
     "data": {
      "text/plain": [
       "Genres\n",
       "Design & Illustration    146\n",
       "Animation & Modeling     125\n",
       "Nudity                   116\n",
       "Sexual Content           105\n",
       "Education                97 \n",
       "Video Production         67 \n",
       "Game Development         62 \n",
       "Audio Production         60 \n",
       "Software Training        52 \n",
       "Web Publishing           38 \n",
       "Photo Editing            29 \n",
       "Accounting                7 \n",
       "Movie                     2 \n",
       "Documentary               1 \n",
       "Episodic                  1 \n",
       "Short                     1 \n",
       "Tutorial                  1 \n",
       "360 Video                 1 \n",
       "Name: count, dtype: int64"
      ]
     },
     "execution_count": 329,
     "metadata": {},
     "output_type": "execute_result"
    }
   ],
   "source": [
    "display(df['Genres'].str.split(',').explode().value_counts().head(18))\n",
    "df['Genres'].str.split(',').explode().value_counts().tail(18)"
   ]
  },
  {
   "cell_type": "code",
   "execution_count": 352,
   "metadata": {},
   "outputs": [
    {
     "name": "stderr",
     "output_type": "stream",
     "text": [
      "C:\\Users\\Mayara Canaver\\AppData\\Local\\Temp\\ipykernel_14072\\4065517939.py:4: FutureWarning: Series.__getitem__ treating keys as positions is deprecated. In a future version, integer keys will always be treated as labels (consistent with DataFrame behavior). To access a value by position, use `ser.iloc[pos]`\n",
      "  ax = df.plot.bar(x=df['Genres'].value_counts()[idx], y=name, rot=0)\n"
     ]
    },
    {
     "ename": "IndexError",
     "evalue": "index 3834 is out of bounds for axis 0 with size 4",
     "output_type": "error",
     "traceback": [
      "\u001b[1;31m---------------------------------------------------------------------------\u001b[0m",
      "\u001b[1;31mIndexError\u001b[0m                                Traceback (most recent call last)",
      "Cell \u001b[1;32mIn[352], line 4\u001b[0m\n\u001b[0;32m      1\u001b[0m \u001b[38;5;28;01mfor\u001b[39;00m idx, name \u001b[38;5;129;01min\u001b[39;00m \u001b[38;5;28menumerate\u001b[39m(df[\u001b[38;5;124m'\u001b[39m\u001b[38;5;124mGenres\u001b[39m\u001b[38;5;124m'\u001b[39m]\u001b[38;5;241m.\u001b[39mstr\u001b[38;5;241m.\u001b[39msplit(\u001b[38;5;124m'\u001b[39m\u001b[38;5;124m,\u001b[39m\u001b[38;5;124m'\u001b[39m)\u001b[38;5;241m.\u001b[39mexplode()\u001b[38;5;241m.\u001b[39mvalue_counts()\u001b[38;5;241m.\u001b[39mindex\u001b[38;5;241m.\u001b[39mto_list()): \n\u001b[0;32m      2\u001b[0m     \u001b[38;5;66;03m#print('Name :', name) \u001b[39;00m\n\u001b[0;32m      3\u001b[0m     \u001b[38;5;66;03m#print('Counts :', df['Genres'].value_counts()[idx])\u001b[39;00m\n\u001b[1;32m----> 4\u001b[0m     ax \u001b[38;5;241m=\u001b[39m \u001b[43mdf\u001b[49m\u001b[38;5;241;43m.\u001b[39;49m\u001b[43mplot\u001b[49m\u001b[38;5;241;43m.\u001b[39;49m\u001b[43mbar\u001b[49m\u001b[43m(\u001b[49m\u001b[43mx\u001b[49m\u001b[38;5;241;43m=\u001b[39;49m\u001b[43mdf\u001b[49m\u001b[43m[\u001b[49m\u001b[38;5;124;43m'\u001b[39;49m\u001b[38;5;124;43mGenres\u001b[39;49m\u001b[38;5;124;43m'\u001b[39;49m\u001b[43m]\u001b[49m\u001b[38;5;241;43m.\u001b[39;49m\u001b[43mvalue_counts\u001b[49m\u001b[43m(\u001b[49m\u001b[43m)\u001b[49m\u001b[43m[\u001b[49m\u001b[43midx\u001b[49m\u001b[43m]\u001b[49m\u001b[43m,\u001b[49m\u001b[43m \u001b[49m\u001b[43my\u001b[49m\u001b[38;5;241;43m=\u001b[39;49m\u001b[43mname\u001b[49m\u001b[43m,\u001b[49m\u001b[43m \u001b[49m\u001b[43mrot\u001b[49m\u001b[38;5;241;43m=\u001b[39;49m\u001b[38;5;241;43m0\u001b[39;49m\u001b[43m)\u001b[49m\n",
      "File \u001b[1;32mc:\\Users\\Mayara Canaver\\Desktop\\teste_projetos\\venv_steam\\lib\\site-packages\\pandas\\plotting\\_core.py:1192\u001b[0m, in \u001b[0;36mPlotAccessor.bar\u001b[1;34m(self, x, y, **kwargs)\u001b[0m\n\u001b[0;32m   1102\u001b[0m \u001b[38;5;129m@Appender\u001b[39m(\n\u001b[0;32m   1103\u001b[0m \u001b[38;5;250m    \u001b[39m\u001b[38;5;124;03m\"\"\"\u001b[39;00m\n\u001b[0;32m   1104\u001b[0m \u001b[38;5;124;03m    See Also\u001b[39;00m\n\u001b[1;32m   (...)\u001b[0m\n\u001b[0;32m   1181\u001b[0m     \u001b[38;5;28mself\u001b[39m, x: Hashable \u001b[38;5;241m|\u001b[39m \u001b[38;5;28;01mNone\u001b[39;00m \u001b[38;5;241m=\u001b[39m \u001b[38;5;28;01mNone\u001b[39;00m, y: Hashable \u001b[38;5;241m|\u001b[39m \u001b[38;5;28;01mNone\u001b[39;00m \u001b[38;5;241m=\u001b[39m \u001b[38;5;28;01mNone\u001b[39;00m, \u001b[38;5;241m*\u001b[39m\u001b[38;5;241m*\u001b[39mkwargs\n\u001b[0;32m   1182\u001b[0m ) \u001b[38;5;241m-\u001b[39m\u001b[38;5;241m>\u001b[39m PlotAccessor:\n\u001b[0;32m   1183\u001b[0m \u001b[38;5;250m    \u001b[39m\u001b[38;5;124;03m\"\"\"\u001b[39;00m\n\u001b[0;32m   1184\u001b[0m \u001b[38;5;124;03m    Vertical bar plot.\u001b[39;00m\n\u001b[0;32m   1185\u001b[0m \n\u001b[1;32m   (...)\u001b[0m\n\u001b[0;32m   1190\u001b[0m \u001b[38;5;124;03m    other axis represents a measured value.\u001b[39;00m\n\u001b[0;32m   1191\u001b[0m \u001b[38;5;124;03m    \"\"\"\u001b[39;00m\n\u001b[1;32m-> 1192\u001b[0m     \u001b[38;5;28;01mreturn\u001b[39;00m \u001b[38;5;28mself\u001b[39m(kind\u001b[38;5;241m=\u001b[39m\u001b[38;5;124m\"\u001b[39m\u001b[38;5;124mbar\u001b[39m\u001b[38;5;124m\"\u001b[39m, x\u001b[38;5;241m=\u001b[39mx, y\u001b[38;5;241m=\u001b[39my, \u001b[38;5;241m*\u001b[39m\u001b[38;5;241m*\u001b[39mkwargs)\n",
      "File \u001b[1;32mc:\\Users\\Mayara Canaver\\Desktop\\teste_projetos\\venv_steam\\lib\\site-packages\\pandas\\plotting\\_core.py:994\u001b[0m, in \u001b[0;36mPlotAccessor.__call__\u001b[1;34m(self, *args, **kwargs)\u001b[0m\n\u001b[0;32m    992\u001b[0m \u001b[38;5;28;01mif\u001b[39;00m x \u001b[38;5;129;01mis\u001b[39;00m \u001b[38;5;129;01mnot\u001b[39;00m \u001b[38;5;28;01mNone\u001b[39;00m:\n\u001b[0;32m    993\u001b[0m     \u001b[38;5;28;01mif\u001b[39;00m is_integer(x) \u001b[38;5;129;01mand\u001b[39;00m \u001b[38;5;129;01mnot\u001b[39;00m data\u001b[38;5;241m.\u001b[39mcolumns\u001b[38;5;241m.\u001b[39m_holds_integer():\n\u001b[1;32m--> 994\u001b[0m         x \u001b[38;5;241m=\u001b[39m \u001b[43mdata_cols\u001b[49m\u001b[43m[\u001b[49m\u001b[43mx\u001b[49m\u001b[43m]\u001b[49m\n\u001b[0;32m    995\u001b[0m     \u001b[38;5;28;01melif\u001b[39;00m \u001b[38;5;129;01mnot\u001b[39;00m \u001b[38;5;28misinstance\u001b[39m(data[x], ABCSeries):\n\u001b[0;32m    996\u001b[0m         \u001b[38;5;28;01mraise\u001b[39;00m \u001b[38;5;167;01mValueError\u001b[39;00m(\u001b[38;5;124m\"\u001b[39m\u001b[38;5;124mx must be a label or position\u001b[39m\u001b[38;5;124m\"\u001b[39m)\n",
      "File \u001b[1;32mc:\\Users\\Mayara Canaver\\Desktop\\teste_projetos\\venv_steam\\lib\\site-packages\\pandas\\core\\indexes\\base.py:5389\u001b[0m, in \u001b[0;36mIndex.__getitem__\u001b[1;34m(self, key)\u001b[0m\n\u001b[0;32m   5386\u001b[0m \u001b[38;5;28;01mif\u001b[39;00m is_integer(key) \u001b[38;5;129;01mor\u001b[39;00m is_float(key):\n\u001b[0;32m   5387\u001b[0m     \u001b[38;5;66;03m# GH#44051 exclude bool, which would return a 2d ndarray\u001b[39;00m\n\u001b[0;32m   5388\u001b[0m     key \u001b[38;5;241m=\u001b[39m com\u001b[38;5;241m.\u001b[39mcast_scalar_indexer(key)\n\u001b[1;32m-> 5389\u001b[0m     \u001b[38;5;28;01mreturn\u001b[39;00m \u001b[43mgetitem\u001b[49m\u001b[43m(\u001b[49m\u001b[43mkey\u001b[49m\u001b[43m)\u001b[49m\n\u001b[0;32m   5391\u001b[0m \u001b[38;5;28;01mif\u001b[39;00m \u001b[38;5;28misinstance\u001b[39m(key, \u001b[38;5;28mslice\u001b[39m):\n\u001b[0;32m   5392\u001b[0m     \u001b[38;5;66;03m# This case is separated from the conditional above to avoid\u001b[39;00m\n\u001b[0;32m   5393\u001b[0m     \u001b[38;5;66;03m# pessimization com.is_bool_indexer and ndim checks.\u001b[39;00m\n\u001b[0;32m   5394\u001b[0m     \u001b[38;5;28;01mreturn\u001b[39;00m \u001b[38;5;28mself\u001b[39m\u001b[38;5;241m.\u001b[39m_getitem_slice(key)\n",
      "\u001b[1;31mIndexError\u001b[0m: index 3834 is out of bounds for axis 0 with size 4"
     ]
    }
   ],
   "source": [
    "for idx, name in enumerate(df['Genres'].str.split(',').explode().value_counts().index.to_list()): \n",
    "    #print('Name :', name) \n",
    "    #print('Counts :', df['Genres'].value_counts()[idx])\n",
    "    ax = df.plot.bar(x=df['Genres'].value_counts()[idx], y=name, rot=0)"
   ]
  },
  {
   "cell_type": "code",
   "execution_count": null,
   "metadata": {},
   "outputs": [],
   "source": []
  },
  {
   "cell_type": "code",
   "execution_count": 302,
   "metadata": {},
   "outputs": [
    {
     "data": {
      "text/plain": [
       "0        False\n",
       "0        False\n",
       "0        False\n",
       "1        False\n",
       "1        False\n",
       "         ...  \n",
       "83554    False\n",
       "83554    False\n",
       "83554    False\n",
       "83556    False\n",
       "83556    False\n",
       "Name: Genres, Length: 178909, dtype: bool"
      ]
     },
     "execution_count": 302,
     "metadata": {},
     "output_type": "execute_result"
    }
   ],
   "source": [
    "df['Genres'].str.split(',').explode().str.contains('Design & Illustration')"
   ]
  },
  {
   "cell_type": "code",
   "execution_count": 312,
   "metadata": {},
   "outputs": [
    {
     "data": {
      "text/plain": [
       "Index([  260,   479,   528,  1345,  1387,  2868,  3717,  3909,  5618,  5620,\n",
       "       ...\n",
       "       78013, 78018, 78056, 78070, 78077, 78079, 78083, 78119, 78234, 80472],\n",
       "      dtype='int64', length=146)"
      ]
     },
     "execution_count": 312,
     "metadata": {},
     "output_type": "execute_result"
    }
   ],
   "source": [
    "df['Genres'].str.split(',').explode().str.contains('Design & Illustration')[df['Genres'].str.split(',').explode().str.contains('Design & Illustration')].index"
   ]
  },
  {
   "cell_type": "code",
   "execution_count": 336,
   "metadata": {},
   "outputs": [
    {
     "data": {
      "text/html": [
       "<div>\n",
       "<style scoped>\n",
       "    .dataframe tbody tr th:only-of-type {\n",
       "        vertical-align: middle;\n",
       "    }\n",
       "\n",
       "    .dataframe tbody tr th {\n",
       "        vertical-align: top;\n",
       "    }\n",
       "\n",
       "    .dataframe thead th {\n",
       "        text-align: right;\n",
       "    }\n",
       "</style>\n",
       "<table border=\"1\" class=\"dataframe\">\n",
       "  <thead>\n",
       "    <tr style=\"text-align: right;\">\n",
       "      <th></th>\n",
       "      <th>Name</th>\n",
       "      <th>Categories</th>\n",
       "      <th>Genres</th>\n",
       "      <th>Tags</th>\n",
       "    </tr>\n",
       "  </thead>\n",
       "  <tbody>\n",
       "    <tr>\n",
       "      <th>226</th>\n",
       "      <td>SolidFace Parametric CAD Modeler 2D/3D</td>\n",
       "      <td>Single-player</td>\n",
       "      <td>Animation &amp; Modeling,Design &amp; Illustration,Utilities</td>\n",
       "      <td>Design &amp; Illustration,Animation &amp; Modeling,Utilities</td>\n",
       "    </tr>\n",
       "    <tr>\n",
       "      <th>410</th>\n",
       "      <td>XWallpaper</td>\n",
       "      <td>Steam Workshop,Steam Cloud,Includes level editor</td>\n",
       "      <td>Animation &amp; Modeling,Design &amp; Illustration,Utilities</td>\n",
       "      <td>Utilities,Design &amp; Illustration,Animation &amp; Modeling</td>\n",
       "    </tr>\n",
       "    <tr>\n",
       "      <th>456</th>\n",
       "      <td>Illwinter's Floorplan Generator</td>\n",
       "      <td>Steam Workshop</td>\n",
       "      <td>RPG,Design &amp; Illustration,Utilities</td>\n",
       "      <td>Design &amp; Illustration,RPG,Utilities,Software</td>\n",
       "    </tr>\n",
       "    <tr>\n",
       "      <th>1160</th>\n",
       "      <td>Nine-Slicer</td>\n",
       "      <td>Single-player</td>\n",
       "      <td>Indie,Design &amp; Illustration,Utilities,Game Development</td>\n",
       "      <td>Indie,Utilities,Game Development,Design &amp; Illustration</td>\n",
       "    </tr>\n",
       "    <tr>\n",
       "      <th>1199</th>\n",
       "      <td>Spriter Pro</td>\n",
       "      <td>Steam Trading Cards</td>\n",
       "      <td>Animation &amp; Modeling,Design &amp; Illustration,Utilities</td>\n",
       "      <td>Animation &amp; Modeling,Design &amp; Illustration,Utilities,Software,Game Development</td>\n",
       "    </tr>\n",
       "    <tr>\n",
       "      <th>...</th>\n",
       "      <td>...</td>\n",
       "      <td>...</td>\n",
       "      <td>...</td>\n",
       "      <td>...</td>\n",
       "    </tr>\n",
       "    <tr>\n",
       "      <th>59538</th>\n",
       "      <td>GameMaker Studio 2 Desktop</td>\n",
       "      <td>In-App Purchases</td>\n",
       "      <td>Animation &amp; Modeling,Design &amp; Illustration,Education,Software Training,Utilities,Web Publishing,Game Development</td>\n",
       "      <td>Game Development,Utilities,Design &amp; Illustration,Education,Animation &amp; Modeling,Web Publishing,GameMaker,Software Training,Software</td>\n",
       "    </tr>\n",
       "    <tr>\n",
       "      <th>59542</th>\n",
       "      <td>Platfinity™</td>\n",
       "      <td>Steam Achievements,Steam Trading Cards,Partial Controller Support,Includes level editor</td>\n",
       "      <td>Animation &amp; Modeling,Design &amp; Illustration,Education</td>\n",
       "      <td>Design &amp; Illustration,Animation &amp; Modeling,Education,Game Development,GameMaker,Sandbox,Gaming,Software,Replay Value</td>\n",
       "    </tr>\n",
       "    <tr>\n",
       "      <th>59575</th>\n",
       "      <td>GameMaker Studio 2 Web</td>\n",
       "      <td>In-App Purchases</td>\n",
       "      <td>Animation &amp; Modeling,Design &amp; Illustration,Education,Utilities,Web Publishing,Game Development</td>\n",
       "      <td>Game Development,Design &amp; Illustration,Utilities,Animation &amp; Modeling,Education,Web Publishing,GameMaker,Software Training</td>\n",
       "    </tr>\n",
       "    <tr>\n",
       "      <th>59684</th>\n",
       "      <td>3DCoat 4.9</td>\n",
       "      <td>Steam Cloud</td>\n",
       "      <td>Animation &amp; Modeling,Design &amp; Illustration,Education,Photo Editing,Utilities,Game Development</td>\n",
       "      <td>Animation &amp; Modeling,Utilities,Design &amp; Illustration,Photo Editing,Education,Game Development</td>\n",
       "    </tr>\n",
       "    <tr>\n",
       "      <th>60911</th>\n",
       "      <td>COLDSTEEL's Sprite Studio</td>\n",
       "      <td>Steam Workshop</td>\n",
       "      <td>Animation &amp; Modeling,Design &amp; Illustration,Photo Editing,Game Development,Early Access</td>\n",
       "      <td>Design &amp; Illustration,Early Access,Photo Editing,Animation &amp; Modeling,Game Development</td>\n",
       "    </tr>\n",
       "  </tbody>\n",
       "</table>\n",
       "<p>146 rows × 4 columns</p>\n",
       "</div>"
      ],
      "text/plain": [
       "                                         Name  \\\n",
       "226    SolidFace Parametric CAD Modeler 2D/3D   \n",
       "410    XWallpaper                               \n",
       "456    Illwinter's Floorplan Generator          \n",
       "1160   Nine-Slicer                              \n",
       "1199   Spriter Pro                              \n",
       "...            ...                              \n",
       "59538  GameMaker Studio 2 Desktop               \n",
       "59542  Platfinity™                              \n",
       "59575  GameMaker Studio 2 Web                   \n",
       "59684  3DCoat 4.9                               \n",
       "60911  COLDSTEEL's Sprite Studio                \n",
       "\n",
       "                                                                                    Categories  \\\n",
       "226    Single-player                                                                             \n",
       "410    Steam Workshop,Steam Cloud,Includes level editor                                          \n",
       "456    Steam Workshop                                                                            \n",
       "1160   Single-player                                                                             \n",
       "1199   Steam Trading Cards                                                                       \n",
       "...                    ...                                                                       \n",
       "59538  In-App Purchases                                                                          \n",
       "59542  Steam Achievements,Steam Trading Cards,Partial Controller Support,Includes level editor   \n",
       "59575  In-App Purchases                                                                          \n",
       "59684  Steam Cloud                                                                               \n",
       "60911  Steam Workshop                                                                            \n",
       "\n",
       "                                                                                                                 Genres  \\\n",
       "226    Animation & Modeling,Design & Illustration,Utilities                                                               \n",
       "410    Animation & Modeling,Design & Illustration,Utilities                                                               \n",
       "456    RPG,Design & Illustration,Utilities                                                                                \n",
       "1160   Indie,Design & Illustration,Utilities,Game Development                                                             \n",
       "1199   Animation & Modeling,Design & Illustration,Utilities                                                               \n",
       "...                                                     ...                                                               \n",
       "59538  Animation & Modeling,Design & Illustration,Education,Software Training,Utilities,Web Publishing,Game Development   \n",
       "59542  Animation & Modeling,Design & Illustration,Education                                                               \n",
       "59575  Animation & Modeling,Design & Illustration,Education,Utilities,Web Publishing,Game Development                     \n",
       "59684  Animation & Modeling,Design & Illustration,Education,Photo Editing,Utilities,Game Development                      \n",
       "60911  Animation & Modeling,Design & Illustration,Photo Editing,Game Development,Early Access                             \n",
       "\n",
       "                                                                                                                                      Tags  \n",
       "226    Design & Illustration,Animation & Modeling,Utilities                                                                                 \n",
       "410    Utilities,Design & Illustration,Animation & Modeling                                                                                 \n",
       "456    Design & Illustration,RPG,Utilities,Software                                                                                         \n",
       "1160   Indie,Utilities,Game Development,Design & Illustration                                                                               \n",
       "1199   Animation & Modeling,Design & Illustration,Utilities,Software,Game Development                                                       \n",
       "...                                                                               ...                                                       \n",
       "59538  Game Development,Utilities,Design & Illustration,Education,Animation & Modeling,Web Publishing,GameMaker,Software Training,Software  \n",
       "59542  Design & Illustration,Animation & Modeling,Education,Game Development,GameMaker,Sandbox,Gaming,Software,Replay Value                 \n",
       "59575  Game Development,Design & Illustration,Utilities,Animation & Modeling,Education,Web Publishing,GameMaker,Software Training           \n",
       "59684  Animation & Modeling,Utilities,Design & Illustration,Photo Editing,Education,Game Development                                        \n",
       "60911  Design & Illustration,Early Access,Photo Editing,Animation & Modeling,Game Development                                               \n",
       "\n",
       "[146 rows x 4 columns]"
      ]
     },
     "execution_count": 336,
     "metadata": {},
     "output_type": "execute_result"
    }
   ],
   "source": [
    "df.iloc[df['Genres'].str.split(',').explode().str.contains('Design & Illustration')[df['Genres'].str.split(',').explode().str.contains('Design & Illustration')].index]"
   ]
  },
  {
   "cell_type": "code",
   "execution_count": null,
   "metadata": {},
   "outputs": [],
   "source": []
  }
 ],
 "metadata": {
  "kernelspec": {
   "display_name": "venv_steam",
   "language": "python",
   "name": "python3"
  },
  "language_info": {
   "codemirror_mode": {
    "name": "ipython",
    "version": 3
   },
   "file_extension": ".py",
   "mimetype": "text/x-python",
   "name": "python",
   "nbconvert_exporter": "python",
   "pygments_lexer": "ipython3",
   "version": "3.10.0"
  }
 },
 "nbformat": 4,
 "nbformat_minor": 2
}
