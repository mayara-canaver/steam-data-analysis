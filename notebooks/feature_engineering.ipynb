{
 "cells": [
  {
   "cell_type": "markdown",
   "metadata": {},
   "source": [
    "## Steam Game Analysis and Prediction\n",
    "\n",
    "### Introduction\n",
    "\n",
    "This project aims to conduct a predictive analysis on a public dataset encompassing over 80,000 Steam games, each containing a multitude of attributes. The primary objective is to develop a model capable of suggesting similar games based on a user's selection. For instance, if a user selects Grand Theft Auto V, the model would return a top 5 list of games most closely resembling it, such as Grand Theft Auto: San Andreas. \n",
    "\n",
    "By leveraging this predictive capability, we seek to enhance game recommendations for Steam users and gain deeper insights into the complex relationships between various game attributes."
   ]
  },
  {
   "cell_type": "code",
   "execution_count": null,
   "metadata": {},
   "outputs": [],
   "source": [
    "import pandas as pd"
   ]
  },
  {
   "cell_type": "markdown",
   "metadata": {},
   "source": [
    "### Feature Engineering\n",
    "#### Genre Column"
   ]
  },
  {
   "cell_type": "code",
   "execution_count": null,
   "metadata": {},
   "outputs": [],
   "source": [
    "irrelevant_genres = [\n",
    "    'design & illustration',\n",
    "    'massively multiplayer',\n",
    "    'animation & modeling',\n",
    "    'software training',\n",
    "    'audio production',\n",
    "    'game development',\n",
    "    'video production',\n",
    "    'web publishing',\n",
    "    'sexual content',\n",
    "    'photo editing',\n",
    "    'documentary',\n",
    "    'accounting',\n",
    "    'utilities',\n",
    "    'education',\n",
    "    '360 video',\n",
    "    'episodic',\n",
    "    'tutorial',\n",
    "    'violent',\n",
    "    'nudity',\n",
    "    'movie',\n",
    "    'short',\n",
    "    'gore',\n",
    "    ]\n",
    "\n",
    "df_exploded = df['Genres'].str.split(',').explode()\n",
    "\n",
    "df.drop(df_exploded.isin(irrelevant_genres)[df_exploded.isin(irrelevant_genres)].index.drop_duplicates(), inplace=True)\n",
    "\n",
    "df.reset_index(inplace=True)"
   ]
  },
  {
   "cell_type": "markdown",
   "metadata": {},
   "source": [
    "#### Tags Column"
   ]
  },
  {
   "cell_type": "code",
   "execution_count": null,
   "metadata": {},
   "outputs": [],
   "source": [
    "replace_tags = {\n",
    "    'e-sports': 'sports',\n",
    "    'action rpg': 'action',\n",
    "    'action rts': 'action',\n",
    "    'dark comedy': 'comedy',\n",
    "    '2d platformer': 'platformer',\n",
    "    '3d platformer': 'platformer',\n",
    "    'action-adventure': 'adventure',\n",
    "    'puzzle-platformer': 'puzzle',\n",
    "    'turn-based combat': 'turn-based',\n",
    "    'turn-based strategy': 'turn-based',\n",
    "    'turn-based tactics': 'turn-based',\n",
    "    'massively multiplayer': 'multiplayer',\n",
    "    'local multiplayer': 'multiplayer',\n",
    "    'crpg': 'rpg',\n",
    "    'jrpg': 'rpg',\n",
    "    'world war i': 'wargame',\n",
    "    'world war ii': 'wargame',\n",
    "    'cold war': 'wargame',\n",
    "    'traditional roguelike': 'roguelike',\n",
    "    'action roguelike': 'roguelike',\n",
    "    'rogue-like': 'roguelike',\n",
    "    'space sim': 'simulation',\n",
    "    'farming sim': 'simulation',\n",
    "    'dating sim': 'simulation',\n",
    "    'cartoony': 'cartoon',\n",
    "    'coding': 'programming',\n",
    "    'hacking': 'programming',\n",
    "    '2d fighter': 'fighting',\n",
    "    '3d fighter': 'fighting',\n",
    "    'immersive sim': 'immersive',\n",
    "    'political sim': 'politics',\n",
    "    'political': 'politics',\n",
    "    'resource management': 'management',\n",
    "    'time management': 'management',\n",
    "    'inventory management': 'management',\n",
    "    'arena shooter': 'shooter',\n",
    "    'hero shooter': 'shooter',\n",
    "    'looter shooter': 'shooter',\n",
    "    'extraction shooter': 'shooter',\n",
    "    'lore-rich': 'story rich',\n",
    "    'mini golf': 'golf',\n",
    "    'dark fantasy': 'fantasy',\n",
    "    }\n",
    "\n",
    "df_exploded = df['Tags'].str.split(',').explode()\n",
    "\n",
    "df_exploded = df_exploded.replace(replace_tags)"
   ]
  },
  {
   "cell_type": "code",
   "execution_count": null,
   "metadata": {},
   "outputs": [],
   "source": [
    "df_grouped = df.groupby(level=0)['Tags'].agg(list).reset_index()\n",
    "low_frequency_values = df_exploded.value_counts()[df_exploded.value_counts() < 3000].index\n",
    "\n",
    "filtered_df = df_exploded[df_exploded.isin(low_frequency_values)]"
   ]
  }
 ],
 "metadata": {
  "kernelspec": {
   "display_name": "Python 3",
   "language": "python",
   "name": "python3"
  },
  "language_info": {
   "name": "python",
   "version": "3.10.0"
  }
 },
 "nbformat": 4,
 "nbformat_minor": 2
}
